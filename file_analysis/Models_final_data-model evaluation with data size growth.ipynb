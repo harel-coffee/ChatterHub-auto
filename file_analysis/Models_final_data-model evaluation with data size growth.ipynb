{
 "cells": [
  {
   "cell_type": "code",
   "execution_count": 1,
   "metadata": {},
   "outputs": [
    {
     "name": "stderr",
     "output_type": "stream",
     "text": [
      "Using TensorFlow backend.\n"
     ]
    }
   ],
   "source": [
    "%matplotlib inline\n",
    "import json \n",
    "import matplotlib.pyplot as plt\n",
    "import os\n",
    "import numpy as np\n",
    "from mpl_toolkits.mplot3d import Axes3D\n",
    "import keras \n",
    "\n",
    "# import numpy\n",
    "# import pandas\n",
    "from keras.models import Sequential\n",
    "from keras.layers import Dense\n",
    "from keras.wrappers.scikit_learn import KerasClassifier\n",
    "from keras.utils import np_utils\n",
    "from sklearn.model_selection import cross_val_score\n",
    "from sklearn.model_selection import KFold\n",
    "from sklearn.preprocessing import LabelEncoder\n",
    "from sklearn.pipeline import Pipeline\n",
    "import tensorflow as tf\n",
    "\n",
    "\n",
    "from keras.datasets import imdb\n",
    "from keras.models import Sequential\n",
    "from keras.layers import Dense\n",
    "from keras.layers import LSTM\n",
    "from keras.layers import Dropout\n",
    "from keras.layers.embeddings import Embedding\n",
    "from keras.preprocessing import sequence\n",
    "\n",
    "import glob\n",
    "\n",
    "from sklearn.model_selection import train_test_split\n",
    "from sklearn.metrics import multilabel_confusion_matrix\n",
    "from sklearn.metrics import accuracy_score\n",
    "import gc\n",
    "from keras import backend as K"
   ]
  },
  {
   "cell_type": "markdown",
   "metadata": {},
   "source": [
    "# Main configs"
   ]
  },
  {
   "cell_type": "code",
   "execution_count": 40,
   "metadata": {},
   "outputs": [],
   "source": [
    "loadFromMerged=True\n",
    "loadFromIndexes= True\n",
    "Mapper='S'\n",
    "IgnoreEmpty= False\n",
    "FoldID =\"1\"\n",
    "Epoch_count=3850\n",
    "Batch_size=19500"
   ]
  },
  {
   "cell_type": "markdown",
   "metadata": {},
   "source": [
    "# Load the data the old way\n"
   ]
  },
  {
   "cell_type": "code",
   "execution_count": 3,
   "metadata": {},
   "outputs": [],
   "source": [
    "# x_data= [] \n",
    "# y_data= [] \n",
    "\n",
    "\n",
    "# with open( '../files/txt/seq_mapping_large.txt' ) as f:\n",
    "#     x_data =   f.readlines()\n",
    "\n",
    "# with open( '../files/txt/command_mapping_large.txt' ) as f:\n",
    "#     y_data = f.readlines()\n",
    "    \n",
    "    \n",
    "# x_data =[ np.array([ int(y) for y in x.strip().split( ' ') ])   for x in  x_data ] \n",
    "# y_data =[ x.strip().split(' ') for x in  y_data ] \n"
   ]
  },
  {
   "cell_type": "markdown",
   "metadata": {},
   "source": [
    "#  Load The Data The New Way"
   ]
  },
  {
   "cell_type": "code",
   "execution_count": null,
   "metadata": {},
   "outputs": [],
   "source": []
  },
  {
   "cell_type": "code",
   "execution_count": 4,
   "metadata": {},
   "outputs": [],
   "source": [
    "#  mapps the input records to a integer array for the input\n",
    "def mapping_x( inp ):\n",
    "    return np.array([ int(x[\"packet_length\"]) * (1 if x['packet_source']=='hub' else -1) for x in inp ])"
   ]
  },
  {
   "cell_type": "code",
   "execution_count": 5,
   "metadata": {},
   "outputs": [],
   "source": [
    "def mapping_y_service(inp):\n",
    "    return np.array(  list(set([x[\"event\"] for x in inp])) if (len(inp )>0) else [\"none\"] )\n",
    "def mapping_sampling_y(inp):\n",
    "    return np.random.choice( np.array(  list(set([x[\"event\"] for x in inp])) if (len(inp )>0) else [\"none\"] ))\n",
    "\n",
    "def mapping_y_service_event(inp):\n",
    "    return np.array(  list(set([ \"%s-%s\"%( x[\"event\"] ,x[\"val\"] ) for x in inp])) if (len(inp )>0) else [\"none\"] )"
   ]
  },
  {
   "cell_type": "code",
   "execution_count": 6,
   "metadata": {},
   "outputs": [],
   "source": [
    "# this cleans the data removing emply nodes and turning the nodes into sarrays by calling the mapping function \n",
    "def clean_data( x_data, y_data , removeempty=True, Mapping='S', sampling=False):\n",
    "    cleans = [] \n",
    "    cleans = sorted([ x for x in y_data if (removeempty and len(y_data[x]) > 0) or not removeempty  ] )\n",
    "    \n",
    "    ret_x  = [x_data[x] for x in cleans]\n",
    "    ret_y  = [y_data[x] for x in cleans] \n",
    "    \n",
    "    ret_x  = [ mapping_x(x) for x in ret_x ] \n",
    "    \n",
    "    if sampling: \n",
    "        ret_y  = [ mapping_sampling_y(y) for y in ret_y ]\n",
    "    else :\n",
    "        if Mapping=='S':\n",
    "            ret_y  = [ mapping_y_service(y) for y in ret_y ]\n",
    "        elif Mapping=='SE':\n",
    "            ret_y  = [ mapping_y_service_event(y) for y in ret_y ]\n",
    "\n",
    "    \n",
    "    \n",
    "    return ret_x, ret_y"
   ]
  },
  {
   "cell_type": "code",
   "execution_count": null,
   "metadata": {},
   "outputs": [],
   "source": []
  },
  {
   "cell_type": "code",
   "execution_count": 23,
   "metadata": {},
   "outputs": [
    {
     "data": {
      "text/plain": [
       "(31273, 19968)"
      ]
     },
     "execution_count": 23,
     "metadata": {},
     "output_type": "execute_result"
    }
   ],
   "source": [
    "x= []\n",
    "y= []\n",
    "\n",
    "x_test = {}\n",
    "y_test = {}\n",
    "\n",
    "x_train = {}\n",
    "y_train = {}\n",
    "import random\n",
    "\n",
    "\n",
    "if loadFromMerged:\n",
    "    with open(  '../files/train/merged/hub_segments_2.json'  ) as f:\n",
    "        y_data = json.load(f)\n",
    "\n",
    "    with open(  '../files/train/merged/pcap_segments_2.json'  ) as f:\n",
    "        x_data = json.load(f)\n",
    "\n",
    "    if len( y_data ) != len(x_data) :\n",
    "        print( pick )\n",
    "    #     continue\n",
    "\n",
    "    with open(\"../files/train/merged/items_2_test-train_indexes.json\")  as f:\n",
    "        index_info = json.load(f)\n",
    "    \n",
    "    from sklearn.model_selection import StratifiedShuffleSplit\n",
    "    sss = StratifiedShuffleSplit(n_splits=5, test_size=0.2, random_state=0)\n",
    "    idx = []\n",
    "    \n",
    "#     x_test = x_data[ index_info[\"1\"][\"test\"]  ]\n",
    "#     y_test = y_data[ index_info[\"1\"][\"test\"]  ]\n",
    "    \n",
    "#     x_train = x_data[ index_info[\"1\"][\"train\"]  ]\n",
    "#     y_train = y_data[ index_info[\"1\"][\"train\"]  ]\n",
    "    \n",
    "    \n",
    "    xx , yy =  clean_data( x_data, y_data, IgnoreEmpty , Mapping=Mapper, sampling=True)\n",
    "    \n",
    "    xx= np.array(xx)\n",
    "    yy= np.array(yy)\n",
    "    for train_idx, test_idx in sss.split( xx,yy ):\n",
    "        idx.append( [train_idx,test_idx] )\n",
    "    \n",
    "    \n",
    "    \n",
    "#     for i in  idx[0][1]:\n",
    "#         x_test[str(i+1)]=( x_data[str(i+1)] )\n",
    "#         y_test[str(i+1)]=( y_data[str(i+1)] )\n",
    "    \n",
    "#     for i in idx[0][0]:\n",
    "#         x_train[str(i+1)]=(  x_data[str(i+1)] )\n",
    "#         y_train[str(i+1)]=(  y_data[str(i+1)] )\n",
    "    \n",
    "    fname  ='home_os_final.json'\n",
    "    with open( os.path.join( '../files/train/test/test_homes/final_upload/usecases/hub_segments_final_final/', fname) ) as f:\n",
    "        y_data_test = json.load(f)\n",
    "\n",
    "    with open( os.path.join('../files/train/test/test_homes/final_upload/usecases/pcap_segments_final_final/', fname) ) as f:\n",
    "        x_data_test = json.load(f)\n",
    "\n",
    "\n",
    "    x_test,y_test= clean_data( x_data_test, y_data_test, IgnoreEmpty , Mapping=Mapper )\n",
    "\n",
    "    \n",
    "    \n",
    "    \n",
    "    \n",
    "    \n",
    "    \n",
    "#     x_test,y_test= clean_data( x_test, y_test, IgnoreEmpty , Mapping=Mapper)\n",
    "    x_train,y_train= clean_data( x_data, y_data, IgnoreEmpty , Mapping=Mapper )\n",
    "\n",
    "    x_train = np.array(x_train)\n",
    "    y_train = np.array(y_train)\n",
    "    \n",
    "#     indices = np.arange(x_train.shape[0])\n",
    "#     np.random.shuffle(indices)\n",
    "\n",
    "#     x_train = x_train[indices]\n",
    "#     y_train = y_train[indices]\n",
    "#     x.extend(t_x)\n",
    "#     y.extend(t_y)\n",
    "else:\n",
    "    for pick in glob.glob( '../files/train/hub_segments/*.json' ):\n",
    "        fname  = os.path.basename(pick)\n",
    "        with open( os.path.join( '../files/train/hub_segments/', fname) ) as f:\n",
    "            y_data = json.load(f)\n",
    "\n",
    "        with open( os.path.join('../files/train/pcap_segments/', fname) ) as f:\n",
    "            x_data = json.load(f)\n",
    "\n",
    "        if len( y_data ) != len(x_data) :\n",
    "            print( pick )\n",
    "            continue\n",
    "\n",
    "        t_x,t_y= clean_data( x_data, y_data, True )\n",
    "\n",
    "        x.extend( t_x)\n",
    "        y.extend(t_y)\n",
    "\n",
    "x= np.array( x )\n",
    "y= np.array(y)\n",
    "\n",
    "len(x_train), len(y_test)"
   ]
  },
  {
   "cell_type": "code",
   "execution_count": 24,
   "metadata": {},
   "outputs": [
    {
     "data": {
      "text/plain": [
       "5"
      ]
     },
     "execution_count": 24,
     "metadata": {},
     "output_type": "execute_result"
    }
   ],
   "source": [
    "len(idx)"
   ]
  },
  {
   "cell_type": "code",
   "execution_count": 9,
   "metadata": {},
   "outputs": [],
   "source": [
    "sss = StratifiedShuffleSplit(n_splits=10, test_size=0.2, random_state=0)\n",
    "idx = []\n",
    "m = sss.split( xx,yy )"
   ]
  },
  {
   "cell_type": "code",
   "execution_count": 32,
   "metadata": {},
   "outputs": [
    {
     "data": {
      "text/plain": [
       "array(['none'], dtype='<U4')"
      ]
     },
     "execution_count": 32,
     "metadata": {},
     "output_type": "execute_result"
    }
   ],
   "source": [
    "y_train[0]"
   ]
  },
  {
   "cell_type": "code",
   "execution_count": 70,
   "metadata": {},
   "outputs": [
    {
     "ename": "ValueError",
     "evalue": "The truth value of an array with more than one element is ambiguous. Use a.any() or a.all()",
     "output_type": "error",
     "traceback": [
      "\u001b[0;31m---------------------------------------------------------------------------\u001b[0m",
      "\u001b[0;31mValueError\u001b[0m                                Traceback (most recent call last)",
      "\u001b[0;32m<ipython-input-70-ae722300ab73>\u001b[0m in \u001b[0;36m<module>\u001b[0;34m\u001b[0m\n\u001b[0;32m----> 1\u001b[0;31m \u001b[0mnp\u001b[0m\u001b[0;34m.\u001b[0m\u001b[0munique\u001b[0m\u001b[0;34m(\u001b[0m\u001b[0myy\u001b[0m\u001b[0;34m,\u001b[0m \u001b[0mreturn_inverse\u001b[0m\u001b[0;34m=\u001b[0m\u001b[0;32mTrue\u001b[0m\u001b[0;34m)\u001b[0m\u001b[0;34m\u001b[0m\u001b[0;34m\u001b[0m\u001b[0m\n\u001b[0m",
      "\u001b[0;32m~/.conda/envs/iot_new/lib/python3.6/site-packages/numpy/lib/arraysetops.py\u001b[0m in \u001b[0;36munique\u001b[0;34m(ar, return_index, return_inverse, return_counts, axis)\u001b[0m\n\u001b[1;32m    231\u001b[0m     \u001b[0mar\u001b[0m \u001b[0;34m=\u001b[0m \u001b[0mnp\u001b[0m\u001b[0;34m.\u001b[0m\u001b[0masanyarray\u001b[0m\u001b[0;34m(\u001b[0m\u001b[0mar\u001b[0m\u001b[0;34m)\u001b[0m\u001b[0;34m\u001b[0m\u001b[0;34m\u001b[0m\u001b[0m\n\u001b[1;32m    232\u001b[0m     \u001b[0;32mif\u001b[0m \u001b[0maxis\u001b[0m \u001b[0;32mis\u001b[0m \u001b[0;32mNone\u001b[0m\u001b[0;34m:\u001b[0m\u001b[0;34m\u001b[0m\u001b[0;34m\u001b[0m\u001b[0m\n\u001b[0;32m--> 233\u001b[0;31m         \u001b[0mret\u001b[0m \u001b[0;34m=\u001b[0m \u001b[0m_unique1d\u001b[0m\u001b[0;34m(\u001b[0m\u001b[0mar\u001b[0m\u001b[0;34m,\u001b[0m \u001b[0mreturn_index\u001b[0m\u001b[0;34m,\u001b[0m \u001b[0mreturn_inverse\u001b[0m\u001b[0;34m,\u001b[0m \u001b[0mreturn_counts\u001b[0m\u001b[0;34m)\u001b[0m\u001b[0;34m\u001b[0m\u001b[0;34m\u001b[0m\u001b[0m\n\u001b[0m\u001b[1;32m    234\u001b[0m         \u001b[0;32mreturn\u001b[0m \u001b[0m_unpack_tuple\u001b[0m\u001b[0;34m(\u001b[0m\u001b[0mret\u001b[0m\u001b[0;34m)\u001b[0m\u001b[0;34m\u001b[0m\u001b[0;34m\u001b[0m\u001b[0m\n\u001b[1;32m    235\u001b[0m \u001b[0;34m\u001b[0m\u001b[0m\n",
      "\u001b[0;32m~/.conda/envs/iot_new/lib/python3.6/site-packages/numpy/lib/arraysetops.py\u001b[0m in \u001b[0;36m_unique1d\u001b[0;34m(ar, return_index, return_inverse, return_counts)\u001b[0m\n\u001b[1;32m    276\u001b[0m \u001b[0;34m\u001b[0m\u001b[0m\n\u001b[1;32m    277\u001b[0m     \u001b[0;32mif\u001b[0m \u001b[0moptional_indices\u001b[0m\u001b[0;34m:\u001b[0m\u001b[0;34m\u001b[0m\u001b[0;34m\u001b[0m\u001b[0m\n\u001b[0;32m--> 278\u001b[0;31m         \u001b[0mperm\u001b[0m \u001b[0;34m=\u001b[0m \u001b[0mar\u001b[0m\u001b[0;34m.\u001b[0m\u001b[0margsort\u001b[0m\u001b[0;34m(\u001b[0m\u001b[0mkind\u001b[0m\u001b[0;34m=\u001b[0m\u001b[0;34m'mergesort'\u001b[0m \u001b[0;32mif\u001b[0m \u001b[0mreturn_index\u001b[0m \u001b[0;32melse\u001b[0m \u001b[0;34m'quicksort'\u001b[0m\u001b[0;34m)\u001b[0m\u001b[0;34m\u001b[0m\u001b[0;34m\u001b[0m\u001b[0m\n\u001b[0m\u001b[1;32m    279\u001b[0m         \u001b[0maux\u001b[0m \u001b[0;34m=\u001b[0m \u001b[0mar\u001b[0m\u001b[0;34m[\u001b[0m\u001b[0mperm\u001b[0m\u001b[0;34m]\u001b[0m\u001b[0;34m\u001b[0m\u001b[0;34m\u001b[0m\u001b[0m\n\u001b[1;32m    280\u001b[0m     \u001b[0;32melse\u001b[0m\u001b[0;34m:\u001b[0m\u001b[0;34m\u001b[0m\u001b[0;34m\u001b[0m\u001b[0m\n",
      "\u001b[0;31mValueError\u001b[0m: The truth value of an array with more than one element is ambiguous. Use a.any() or a.all()"
     ]
    }
   ],
   "source": [
    "# np.unique(yy, return_inverse=True)"
   ]
  },
  {
   "cell_type": "code",
   "execution_count": 10,
   "metadata": {},
   "outputs": [],
   "source": [
    "def pre_process_raw( x_data,y_data, dim_size = 128, zero_pad = False, normalize = False ,classes=None, twoD= False ):\n",
    "#  y data \n",
    "    if classes is None:\n",
    "        classes  = sorted(list(np.unique(  np.concatenate( y_data  ))))\n",
    "    else :\n",
    "        classes = sorted(classes)\n",
    "    y_data_categorical = []  \n",
    "\n",
    "    for x in y_data:\n",
    "        temp = np.zeros( len(classes) )\n",
    "        for y in x : \n",
    "            if y in classes:\n",
    "                temp[ classes.index( y ) ] = 1\n",
    "        y_data_categorical.append( temp )\n",
    "    y_data_categorical = np.vstack(y_data_categorical)\n",
    "\n",
    "#     x_data = np.array( x_data) / 1500.0\n",
    "    \n",
    "    x_data_temp = [] \n",
    "    \n",
    "    if not zero_pad:\n",
    "        if twoD:\n",
    "            for x in x_data:\n",
    "                temp = [] #list(x)\n",
    "                lst = list(x)\n",
    "                while dim_size**2 - len(temp )   > len(lst):\n",
    "                    temp.extend(lst)\n",
    "\n",
    "                while len(temp) < dim_size**2:\n",
    "                    temp.append( 0 )\n",
    "\n",
    "                x_data_temp.append(np.array( temp).reshape(dim_size,dim_size))\n",
    "\n",
    "\n",
    "            x_data_temp = np.array( x_data_temp )\n",
    "            x_data_temp=x_data_temp.reshape(x_data_temp.shape+(1,))\n",
    "        else: \n",
    "            temp = [] \n",
    "            lst = list(x)\n",
    "            for x in x_data:\n",
    "                temp = [] #list(x)\n",
    "                lst = list(x)\n",
    "                while dim_size - len(temp )   > len(lst):\n",
    "                    temp.extend(lst)\n",
    "\n",
    "                while len(temp) < dim_size:\n",
    "                    temp.append( 0 )\n",
    "                \n",
    "                x_data_temp.append(np.array( temp))\n",
    "            \n",
    "    else :\n",
    "        x_data_temp = sequence.pad_sequences(x_data, maxlen=dim_size)\n",
    "    \n",
    "    \n",
    "    if normalize:\n",
    "        x_data_temp = np.array( x_data_temp) / 1500.0\n",
    "    else :\n",
    "        x_data_temp = np.array(x_data_temp)\n",
    "    \n",
    "    \n",
    "    return x_data_temp ,y_data_categorical , classes"
   ]
  },
  {
   "cell_type": "markdown",
   "metadata": {},
   "source": [
    "# Model Evaluation Methods"
   ]
  },
  {
   "cell_type": "code",
   "execution_count": 7,
   "metadata": {},
   "outputs": [],
   "source": [
    "def make_recall_shit( inp ):\n",
    "    tp = inp[1][1]\n",
    "    tn = inp[0][0]\n",
    "    fp = inp[0][1] \n",
    "    fn = inp[1][0]\n",
    "    \n",
    "    acc = (tp+tn)*1.0 / ( tp+tn+fp+fn)*1.0\n",
    "    recall = tp*1.0/ ( tp+fn ) *1.0\n",
    "    prec = tp*1.0 / ( tp+fp )*1.0\n",
    "    \n",
    "    F= 2.0*( prec* recall )/ (prec+recall)\n",
    "    \n",
    "    return acc, recall, prec, F\n",
    "def print_info(y_test, pred , classes, DoPrint=False  ):\n",
    "    pred[pred>=0.5] = 1\n",
    "    pred[pred<0.5] = 0\n",
    "    conf= multilabel_confusion_matrix( y_test , pred.astype(int), labels= range(len(classes)))\n",
    "    accs = [make_recall_shit(x) for x in conf]\n",
    "    \n",
    "    if DoPrint:\n",
    "        print( \"%20s  %8s   %8s  %8s  %8s \"  %( \"Class\",\"Accuracy\",      \"Recall\",\"Precision\",\"F Score\" ))\n",
    "        print( \"------------------------------------------------------------------------\" )\n",
    "    \n",
    "        for index in range(len(classes)):\n",
    "            print( \"%20s  %8.3f   %8.3f  %8.3f  %8.3f \"  %\n",
    "                 (classes[index],\n",
    "                  accs[index][0],\n",
    "                  accs[index][1],\n",
    "                  accs[index][2],\n",
    "                  accs[index][3]\n",
    "                 )\n",
    "\n",
    "                 )\n",
    "    return accs"
   ]
  },
  {
   "cell_type": "markdown",
   "metadata": {},
   "source": [
    "# Create the Model "
   ]
  },
  {
   "cell_type": "code",
   "execution_count": 12,
   "metadata": {},
   "outputs": [],
   "source": [
    "import numpy as np\n",
    "import os\n",
    "import tensorflow as tf\n",
    "from keras.models import Model\n",
    "\n",
    "from keras.layers import Input, merge, concatenate, Conv2D, MaxPooling2D, Activation, UpSampling2D, Dropout, Conv2DTranspose, UpSampling2D, Lambda\n",
    "from keras.layers import Dense, Dropout, Flatten\n",
    "from keras.layers.normalization import BatchNormalization as bn\n",
    "from keras.layers.merge import add\n",
    "from keras.callbacks import ModelCheckpoint, TensorBoard\n",
    "from keras.optimizers import RMSprop\n",
    "from keras import regularizers\n",
    "from keras import backend as K\n",
    "from keras.optimizers import Adam\n",
    "from keras.callbacks import ModelCheckpoint\n",
    "from keras.layers.merge import add\n",
    "from keras.models import load_model\n",
    "import numpy as np\n",
    "from keras.regularizers import l2\n",
    "\n",
    "def unet(dim_size , classcount):\n",
    "    l2_lambda = 0.0002\n",
    "    DropP = 0.3\n",
    "    kernel_size=3\n",
    "\n",
    "    inputs = Input((dim_size,dim_size,1))\n",
    "    \n",
    "    \n",
    "    conv1 = Conv2D( 32, (kernel_size, kernel_size), activation='relu', padding='same', kernel_regularizer=regularizers.l2(l2_lambda) )(inputs)\n",
    "    conv1 = bn()(conv1)\n",
    "    conv1 = Conv2D(32, (kernel_size, kernel_size), activation='relu', padding='same', kernel_regularizer=regularizers.l2(l2_lambda) )(conv1)\n",
    "    conv1 = bn()(conv1)\n",
    "    pool1 = MaxPooling2D(pool_size=(2, 2))(conv1)\n",
    "    pool1 = Dropout(DropP)(pool1)\n",
    "\n",
    "\n",
    "\n",
    "\n",
    "\n",
    "    conv2 = Conv2D(64, (kernel_size, kernel_size), activation='relu', padding='same', kernel_regularizer=regularizers.l2(l2_lambda) )(pool1)\n",
    "    conv2 = bn()(conv2)\n",
    "    conv2 = Conv2D(64, (kernel_size, kernel_size), activation='relu', padding='same', kernel_regularizer=regularizers.l2(l2_lambda) )(conv2)\n",
    "    conv2 = bn()(conv2)\n",
    "    pool2 = MaxPooling2D(pool_size=(2, 2))(conv2)\n",
    "    pool2 = Dropout(DropP)(pool2)\n",
    "\n",
    "\n",
    "\n",
    "    conv3 = Conv2D(128, (3, 3), activation='relu', padding='same', kernel_regularizer=regularizers.l2(l2_lambda) )(pool2)\n",
    "    conv3 = bn()(conv3)\n",
    "    conv3 = Conv2D(128, (3, 3), activation='relu', padding='same', kernel_regularizer=regularizers.l2(l2_lambda) )(conv3)\n",
    "    conv3 = bn()(conv3)\n",
    "    pool3 = MaxPooling2D(pool_size=(2, 2))(conv3)\n",
    "    pool3 = Dropout(DropP)(pool3)\n",
    "\n",
    "\n",
    "\n",
    "    conv4 = Conv2D(256, (3, 3), activation='relu', padding='same', kernel_regularizer=regularizers.l2(l2_lambda) )(pool3)\n",
    "    conv4 = bn()(conv4)\n",
    "    conv4 = Conv2D(256, (3, 3), activation='relu', padding='same', kernel_regularizer=regularizers.l2(l2_lambda) )(conv4)\n",
    "    conv4 = bn()(conv4)\n",
    "    pool4 = MaxPooling2D(pool_size=(2, 2))(conv4)\n",
    "    pool4 = Dropout(DropP)(pool4)\n",
    "\n",
    "\n",
    "\n",
    "    conv5 = Conv2D(512, (3, 3), activation='relu', padding='same', kernel_regularizer=regularizers.l2(l2_lambda) )(pool4)\n",
    "    conv5 = bn()(conv5)\n",
    "    conv5 = Conv2D(512, (3, 3), activation='relu', padding='same', kernel_regularizer=regularizers.l2(l2_lambda) )(conv5)\n",
    "    conv5 = bn()(conv5)\n",
    "    \n",
    "    up6 = concatenate([Conv2DTranspose(256,(2, 2), strides=(2, 2), padding='same')(conv5), conv4],name='up6', axis=3)\n",
    "    up6 = Dropout(DropP)(up6)\n",
    "    conv6 = Conv2D(256,(3, 3), activation='relu', padding='same', kernel_regularizer=regularizers.l2(l2_lambda) )(up6)\n",
    "    conv6 = bn()(conv6)\n",
    "    conv6 = Conv2D(256, (3, 3), activation='relu', padding='same', kernel_regularizer=regularizers.l2(l2_lambda) )(conv6)\n",
    "\n",
    "    conv6 = bn()(conv6)\n",
    "    up7 = concatenate([Conv2DTranspose(128,(2, 2), strides=(2, 2), padding='same')(conv6), conv3],name='up7', axis=3)\n",
    "    up7 = Dropout(DropP)(up7)\n",
    "    conv7 = Conv2D(128, (3, 3), activation='relu', padding='same', kernel_regularizer=regularizers.l2(l2_lambda) )(up7)\n",
    "    conv7 = bn()(conv7)\n",
    "    conv7 = Conv2D(128, (3, 3), activation='relu', padding='same', kernel_regularizer=regularizers.l2(l2_lambda) )(conv7)\n",
    "    conv7 = bn()(conv7)\n",
    "\n",
    "    up8 = concatenate([Conv2DTranspose(64,(2, 2), strides=(2, 2), padding='same')(conv7), conv2],name='up8', axis=3)\n",
    "    up8 = Dropout(DropP)(up8)\n",
    "    conv8 = Conv2D(64, (kernel_size, kernel_size), activation='relu', padding='same', kernel_regularizer=regularizers.l2(l2_lambda) )(up8)\n",
    "    conv8 = bn()(conv8)\n",
    "    conv8 = Conv2D(64, (kernel_size, kernel_size), activation='relu', padding='same', kernel_regularizer=regularizers.l2(l2_lambda) )(conv8)\n",
    "    conv8 = bn()(conv8)\n",
    "\n",
    "    up9 = concatenate([Conv2DTranspose(32,(2, 2), strides=(2, 2), padding='same')(conv8), conv1],name='up9',axis=3)\n",
    "    up9 = Dropout(DropP)(up9)\n",
    "    conv9 = Conv2D(32, (kernel_size, kernel_size), activation='relu', padding='same', kernel_regularizer=regularizers.l2(l2_lambda) )(up9)\n",
    "    conv9 = bn()(conv9)\n",
    "    conv9 = Conv2D(32, (kernel_size, kernel_size), activation='relu', padding='same', kernel_regularizer=regularizers.l2(l2_lambda) )(conv9)\n",
    "    conv9 = bn()(conv9) \n",
    "    \n",
    "    \n",
    "    \n",
    "    flatten1 = Flatten()(conv9)\n",
    "    conv7 = Dense( 256, activation='relu' )(flatten1)\n",
    "    conv8 = Dense( 128, activation='relu' )(conv7)\n",
    "    \n",
    "    \n",
    "    output = Dense(classcount,  activation='softmax',name='output')(conv8)\n",
    "    \n",
    "    model = Model(inputs=[inputs], outputs=[output])\n",
    "    model.compile(optimizer=Adam(lr=1e-5), loss='categorical_crossentropy', metrics=['accuracy'])\n",
    "    return model"
   ]
  },
  {
   "cell_type": "code",
   "execution_count": 13,
   "metadata": {},
   "outputs": [],
   "source": [
    "def Do_unet( x_train, y_train , x_test ,y_test, classes ,Batch_size, Epoch_count , return_model=False ):\n",
    "    dim_size =64\n",
    "    x_train_processed,y_train_processed, _ = pre_process_raw( x_train, y_train , dim_size, classes=classes)\n",
    "\n",
    "    model2 = unet(dim_size,len( y_train_processed[0]))\n",
    "    report2=  model2.fit( x=x_train_processed , y=y_train_processed , batch_size=Batch_size, epochs=Epoch_count , verbose=0)\n",
    "    \n",
    "    pred =None\n",
    "    if x_test is not None:\n",
    "        x_test_processed,y_test_processed, _ = pre_process_raw( x_test, y_test , dim_size, classes=classes)\n",
    "        pred= model2.predict( x_test_processed )\n",
    "    \n",
    "    if return_model:\n",
    "        return model2, report2, pred, y_test_processed\n",
    "    else : \n",
    "        K.clear_session()\n",
    "        del model2\n",
    "        mx = np.max(report2.history['acc'])\n",
    "        del report2\n",
    "        return None, mx, pred, y_test_processed"
   ]
  },
  {
   "cell_type": "code",
   "execution_count": 14,
   "metadata": {},
   "outputs": [],
   "source": [
    "# model2.save( \"UNET_LargeData_F%s_E%d_B%d_M%s_%r\" %\n",
    "#             (\n",
    "#             FoldID,\n",
    "#                 Epoch_count,\n",
    "#                 Batch_size,\n",
    "#                 Mapper,\n",
    "#                 IgnoreEmpty\n",
    "#             ) \n",
    "#            )"
   ]
  },
  {
   "cell_type": "markdown",
   "metadata": {},
   "source": [
    "# Calcualte per class accuracy"
   ]
  },
  {
   "cell_type": "code",
   "execution_count": null,
   "metadata": {},
   "outputs": [],
   "source": []
  },
  {
   "cell_type": "code",
   "execution_count": 15,
   "metadata": {},
   "outputs": [],
   "source": [
    "# try:\n",
    "#     print(X_test is None)\n",
    "#     np.save( \"x_test.npy\", X_test )\n",
    "#     np.save(\"y_test.npy\", y_test)\n",
    "#     np.save(\"y_pred.npy\", pred )\n",
    "#     np.save(\"classes.npy\", classes)\n",
    "# except:\n",
    "#     X_test = np.load(\"x_test.npy\")\n",
    "#     y_test = np.load(\"y_test.npy\")\n",
    "#     pred   = np.load(\"y_pred.npy\")\n",
    "#     classes = np.load(\"classes.npy\")"
   ]
  },
  {
   "cell_type": "markdown",
   "metadata": {},
   "source": [
    "# Random Forest baseline calc"
   ]
  },
  {
   "cell_type": "code",
   "execution_count": 16,
   "metadata": {},
   "outputs": [],
   "source": [
    "# x,y, classes = pre_process_raw( x_data, y_data , dim_size, zero_pad=True, normalize=True)"
   ]
  },
  {
   "cell_type": "code",
   "execution_count": 17,
   "metadata": {},
   "outputs": [],
   "source": [
    "from sklearn.ensemble import RandomForestClassifier\n",
    "def Do_RF ( x_train , y_train , x_test , y_test, classes, return_model = False ):\n",
    "    dim_size= 75\n",
    "    x_random_forest_train,y_random_forest_train, _ = pre_process_raw( x_train, y_train , dim_size, zero_pad=True, normalize=False, classes=classes)\n",
    "    \n",
    "    clf = RandomForestClassifier(n_estimators=260, max_depth=200,\n",
    "                                 random_state=0 )\n",
    "    t_hist = clf.fit(x_random_forest_train, y_random_forest_train)\n",
    "\n",
    "    rf_pred = None \n",
    "    if x_test is not None  :\n",
    "        x_random_forest_test,y_random_forest_test, _ = pre_process_raw( x_test, y_test , dim_size, zero_pad=True, normalize=False, classes=classes)\n",
    "        rf_pred= clf.predict(x_random_forest_test  )\n",
    "\n",
    "    if return_model : \n",
    "        return clf, t_hist, rf_pred, y_random_forest_test\n",
    "    else : \n",
    "        \n",
    "        del clf\n",
    "        return None, t_hist, rf_pred, y_random_forest_test\n"
   ]
  },
  {
   "cell_type": "code",
   "execution_count": 18,
   "metadata": {},
   "outputs": [],
   "source": [
    "# print_info(y_random_forest_test, rf_pred, classes)"
   ]
  },
  {
   "cell_type": "code",
   "execution_count": 19,
   "metadata": {},
   "outputs": [],
   "source": [
    "# print ( \"mean : %f \\nstd: %f\\nmax:%f\" %( scores.mean(), scores.std(), scores.max()) )"
   ]
  },
  {
   "cell_type": "markdown",
   "metadata": {},
   "source": [
    "# LSTM "
   ]
  },
  {
   "cell_type": "code",
   "execution_count": 41,
   "metadata": {},
   "outputs": [],
   "source": [
    "# create the model\n",
    "from keras.models import Sequential\n",
    "from keras.layers import LSTM\n",
    "from keras.layers import Dense\n",
    "from keras.layers import TimeDistributed\n",
    "from keras.layers import Bidirectional\n",
    "from keras.layers import Flatten\n",
    "\n",
    "\n",
    "import numpy as np\n",
    "import os\n",
    "import tensorflow as tf\n",
    "from keras.models import Model\n",
    "\n",
    "from keras.layers import Input, merge, concatenate, Conv2D, MaxPooling2D, Activation, UpSampling2D, Dropout, Conv2DTranspose, UpSampling2D, Lambda\n",
    "from keras.layers import Dense, Dropout, Flatten\n",
    "from keras.layers.normalization import BatchNormalization as bn\n",
    "from keras.layers.merge import add\n",
    "from keras.callbacks import ModelCheckpoint, TensorBoard\n",
    "from keras.optimizers import RMSprop\n",
    "from keras import regularizers\n",
    "from keras import backend as K\n",
    "from keras.optimizers import Adam\n",
    "from keras.callbacks import ModelCheckpoint\n",
    "from keras.layers.merge import add\n",
    "from keras.models import load_model\n",
    "import numpy as np\n",
    "from keras.regularizers import l2\n",
    "from keras.layers import Conv1D\n",
    "from keras.layers.merge import add\n",
    "from keras.layers import Dense,Conv1D,Dropout,Activation,BatchNormalization,MaxPooling1D,Flatten,Masking,TimeDistributed\n",
    "from keras.layers.recurrent import LSTM,GRU,SimpleRNN\n",
    "from keras.models import Input,Sequential,Model\n",
    "from keras.layers.merge import add\n",
    "from keras.optimizers import Adam\n",
    "from keras.losses import MSE,MSLE\n",
    "\n",
    "def Do_lstm( x_train , y_train , x_test, y_test , Epoch_count ,Batch_size, classes, return_model=False):\n",
    "    \n",
    "    \n",
    "    \n",
    "    dim_size =15\n",
    "    x_lstm_prossed_train,y_lstm_prossed_train, _ = pre_process_raw( x_train, y_train , dim_size, zero_pad=False, normalize=False,classes=classes)\n",
    "#    x_lstm_prossed_test2 = x_lstm_prossed_test.reshape(len(x_lstm_prossed_test),dim_size,1)\n",
    "    x_lstm_prossed_train2 =x_lstm_prossed_train.reshape(len(x_lstm_prossed_train),dim_size,1)\n",
    "    # create the model\n",
    "    \n",
    "\n",
    "        ## Bidirectional LSTM :D \n",
    "   \n",
    "    model2 = Sequential()\n",
    "\n",
    "\n",
    "    def weighted_categorical_crossentropy(weights):\n",
    "        \"\"\"\n",
    "        A weighted version of keras.objectives.categorical_crossentropy\n",
    "\n",
    "        Variables:\n",
    "            weights: numpy array of shape (C,) where C is the number of classes\n",
    "\n",
    "        Usage:\n",
    "            weights = np.array([0.5,2,10]) # Class one at 0.5, class 2 twice the normal weights, class 3 10x.\n",
    "            loss = weighted_categorical_crossentropy(weights)\n",
    "            model.compile(loss=loss,optimizer='adam')\n",
    "        \"\"\"\n",
    "\n",
    "        weights = K.variable(weights)\n",
    "\n",
    "        def loss(y_true, y_pred):\n",
    "            # scale predictions so that the class probas of each sample sum to 1\n",
    "            y_pred /= K.sum(y_pred, axis=-1, keepdims=True)\n",
    "            # clip to prevent NaN's and Inf's\n",
    "            y_pred = K.clip(y_pred, K.epsilon(), 1 - K.epsilon())\n",
    "            # calc\n",
    "            loss = y_true * K.log(y_pred) * weights\n",
    "            loss = -K.sum(loss, -1)\n",
    "            return loss\n",
    "\n",
    "        return loss\n",
    "\n",
    "\n",
    "    import tensorflow as tf\n",
    "\n",
    "    def f1_perRow(y_true, y_pred):\n",
    "        tp = K.sum(K.cast(y_true*y_pred, 'float'), axis=0)\n",
    "        tn = K.sum(K.cast((1-y_true)*(1-y_pred), 'float'), axis=0)\n",
    "        fp = K.sum(K.cast((1-y_true)*y_pred, 'float'), axis=0)\n",
    "        fn = K.sum(K.cast(y_true*(1-y_pred), 'float'), axis=0)\n",
    "\n",
    "        p = tp / (tp + fp + K.epsilon())\n",
    "        r = tp / (tp + fn + K.epsilon())\n",
    "\n",
    "        f1 = 2*p*r / (p+r+K.epsilon())\n",
    "        f1 = tf.where(tf.is_nan(f1), tf.zeros_like(f1), f1)\n",
    "        return K.mean(f1)\n",
    "\n",
    "\n",
    "    def f1_perClass(y_true, y_pred):\n",
    "\n",
    "        tp = K.sum(K.cast(y_true*y_pred, 'float'), axis=1)\n",
    "        tn = K.sum(K.cast((1-y_true)*(1-y_pred), 'float'), axis=1)\n",
    "        fp = K.sum(K.cast((1-y_true)*y_pred, 'float'), axis=1)\n",
    "        fn = K.sum(K.cast(y_true*(1-y_pred), 'float'), axis=1)\n",
    "\n",
    "        p = tp / (tp + fp + K.epsilon())\n",
    "        r = tp / (tp + fn + K.epsilon())\n",
    "\n",
    "        f1 = 2*p*r / (p+r+K.epsilon())\n",
    "        f1 = tf.where(tf.is_nan(f1), tf.zeros_like(f1), f1)\n",
    "        return K.mean(f1)\n",
    "\n",
    "    def f1_loss_perClass(y_true, y_pred):\n",
    "\n",
    "        tp = K.sum(K.cast(y_true*y_pred, 'float'), axis=1)\n",
    "        tn = K.sum(K.cast((1-y_true)*(1-y_pred), 'float'), axis=1)\n",
    "        fp = K.sum(K.cast((1-y_true)*y_pred, 'float'), axis=1)\n",
    "        fn = K.sum(K.cast(y_true*(1-y_pred), 'float'), axis=1)\n",
    "\n",
    "        p = tp / (tp + fp + K.epsilon())\n",
    "        r = tp / (tp + fn + K.epsilon())\n",
    "\n",
    "        f1 = 2*p*r / (p+r+K.epsilon())\n",
    "        f1 = tf.where(tf.is_nan(f1), tf.zeros_like(f1), f1)\n",
    "        return (1 - K.mean(f1))\n",
    "\n",
    "    def f1_loss_perRow(y_true, y_pred):\n",
    "\n",
    "        tp = K.sum(K.cast(y_true*y_pred, 'float'), axis=0)\n",
    "        tn = K.sum(K.cast((1-y_true)*(1-y_pred), 'float'), axis=0)\n",
    "        fp = K.sum(K.cast((1-y_true)*y_pred, 'float'), axis=0)\n",
    "        fn = K.sum(K.cast(y_true*(1-y_pred), 'float'), axis=0)\n",
    "\n",
    "        p = tp / (tp + fp + K.epsilon())\n",
    "        r = tp / (tp + fn + K.epsilon())\n",
    "\n",
    "        f1 = 2*p*r / (p+r+K.epsilon())\n",
    "        f1 = tf.where(tf.is_nan(f1), tf.zeros_like(f1), f1)\n",
    "        return (1 - K.mean(f1))\n",
    "\n",
    "\n",
    "\n",
    "\n",
    "    inputs  = Input( ( dim_size,1 ) )\n",
    "\n",
    "\n",
    "    out = Conv1D(128,3,padding='same')(inputs)\n",
    "    out = BatchNormalization()(out)\n",
    "    out = Activation('relu')(out)\n",
    "    out = Dropout(0.2)(out)\n",
    "    out = Conv1D(128,3,padding='same')(out)\n",
    "    # bi_d_1 = Bidirectional( LSTM(200 ,  recurrent_dropout=0.12, return_sequences=True),input_shape=[dim_size,1],merge_mode='concat') (inputs)\n",
    "    lstm_1 =  LSTM(100 ,  recurrent_dropout=0.04, return_sequences=True)(out)\n",
    "    # lstm_2 = LSTM(30 ,  recurrent_dropout=0.14, return_sequences=True)(lstm_1)\n",
    "\n",
    "    bi_d_1 =Dense(128, activation='relu')  (lstm_1)\n",
    "    lstm_1 =  Dense(128, activation='relu')(bi_d_1)\n",
    "    lstm_2 = Dense(128, activation='relu')(lstm_1)\n",
    "\n",
    "\n",
    "\n",
    "    # td_1    = TimeDistributed(Dense(256, activation='relu'))(lstm_2)\n",
    "    # dout_1  = Dropout(0.1)(td_1)\n",
    "    dout_1  = Dropout(0.1)(lstm_2)\n",
    "    flt_1   = Flatten()(dout_1)\n",
    "    dense_1 = Dense(128, activation='relu')(flt_1)\n",
    "    dout_2  = Dropout(0.2)(dense_1)\n",
    "\n",
    "\n",
    "\n",
    "\n",
    "\n",
    "    # bi_d_1 = Bidirectional( LSTM(200 ,  recurrent_dropout=0.12, return_sequences=True),input_shape=[dim_size,1],merge_mode='concat') (inputs)\n",
    "    lstm_1 =  LSTM(100 ,  recurrent_dropout=0.04, return_sequences=True)(inputs)\n",
    "    # lstm_1 = LSTM(40 ,  recurrent_dropout=0.14, return_sequences=True)(lstm_1)\n",
    "\n",
    "    bi_d_raw_1 =Dense(128, activation='relu')  (lstm_1)\n",
    "    lstm_raw_1 =  Dense(128, activation='relu')(bi_d_raw_1)\n",
    "    lstm_raw_2 = Dense(128, activation='relu')(lstm_raw_1)\n",
    "\n",
    "    dout_1  = Dropout(0.1)(lstm_raw_2)\n",
    "    flt_1   = Flatten()(dout_1)\n",
    "    dense_1 = Dense(128, activation='relu')(flt_1)\n",
    "    dout_3  = Dropout(0.2)(dense_1)\n",
    "\n",
    "\n",
    "\n",
    "\n",
    "\n",
    "    out = Conv1D(128,3,padding='same')(inputs)\n",
    "    out = BatchNormalization()(out)\n",
    "    out = Activation('relu')(out)\n",
    "    out = Dropout(0.2)(out)\n",
    "    out = Conv1D(128,3,padding='same')(out)\n",
    "    # out = Flatten()(out)\n",
    "    # out = MaxPooling1D(2,padding='same', name ='pooling')(out)\n",
    "\n",
    "\n",
    "    out = Conv1D(128,3,padding='same')(out)\n",
    "    out = BatchNormalization()(out)\n",
    "    out = Activation('relu')(out)\n",
    "    out = Dropout(0.2)(out)\n",
    "    out = Conv1D(128,3,padding='same')(out)\n",
    "    # out = Flatten()(out)\n",
    "    # out = MaxPooling1D(2,padding='same', name ='pooling2')(out)\n",
    "\n",
    "\n",
    "    out = Conv1D(128,3,padding='same')(out)\n",
    "    out = BatchNormalization()(out)\n",
    "    out = Activation('relu')(out)\n",
    "    out = Dropout(0.2)(out)\n",
    "    out = Conv1D(128,3,padding='same')(out)\n",
    "    # out = Flatten()(out)\n",
    "    # out = MaxPooling1D(2,padding='same', name ='pooling')(out)\n",
    "\n",
    "\n",
    "\n",
    "    # fl_out_1 = Flatten()(dout_2)\n",
    "\n",
    "    fl_out_cnn = Flatten()(out)\n",
    "\n",
    "    # out_new = concatenate( [fl_out_1, fl_out_cnn] , name='mergerguy')\n",
    "    out_new = concatenate( [dout_2, fl_out_cnn,dout_3] , name='mergerguy')\n",
    "\n",
    "    dens_out_1 = Dense( 128, activation='relu' )(out_new)\n",
    "    dens_out_2 = Dense( 128, activation='relu' )(dens_out_1)\n",
    "    dens_out_3 = Dense( 128, activation='relu' )(dens_out_2)\n",
    "\n",
    "    # fl2  = Flatten()(out_new)\n",
    "\n",
    "    out_put_final = Dense(len(classes), activation='sigmoid', name='Event_output')(dens_out_3)\n",
    "\n",
    "    toService_1 = Dense( 130, name=\"to_service1\" )(dens_out_3)\n",
    "    toService_1 = Dense( 130, name=\"to_service2\" )(toService_1)\n",
    "\n",
    "    service_output = Dense(len(classes  ), activation=\"sigmoid\", name = 'service_output')(toService_1)\n",
    "\n",
    "\n",
    "\n",
    "    model2 = Model(inputs=[inputs], outputs=[service_output])\n",
    "\n",
    "\n",
    "    losses = {\n",
    "    #     \"service_output\": f1_loss_perClass ,\n",
    "        \"service_output\": f1_loss_perRow ,\n",
    "        \"service_output\": \"categorical_crossentropy\",\n",
    "    }\n",
    "    lossWeights = {#\"service_output\": 20,\n",
    "                   \"service_output\": 30.0 ,\n",
    "        \"service_output\": 20}\n",
    "\n",
    "\n",
    "\n",
    "    model2.compile(loss=losses,loss_weights=lossWeights, optimizer='adam', metrics=[f1_perRow,f1_perClass,'acc'])\n",
    "    # model2.compile(loss=losses, loss_weights=lossWeights, optimizer='adam', metrics=['accuracy'])\n",
    "\n",
    "#     print(model2.summary())\n",
    "    hist2 = model2.fit(x_lstm_prossed_train2, y_lstm_prossed_train, epochs=100, batch_size=12500, shuffle=True, verbose=0)\n",
    "\n",
    "    \n",
    "    if x_test is not None :\n",
    "        x_lstm_prossed_test,y_lstm_prossed_test, _ = pre_process_raw( x_test, y_test , dim_size, zero_pad=False, normalize=False,classes=classes)\n",
    "        \n",
    "#           for tt  in range( len(lstm_tests) ):\n",
    "        x_lstm_prossed_test= x_lstm_prossed_test.reshape(len(x_lstm_prossed_test),dim_size,1) \n",
    "#\n",
    "        pred = model2.predict( x_lstm_prossed_test )\n",
    "    \n",
    "    if return_model:\n",
    "        return model2 , hist2, pred , y_lstm_prossed_test\n",
    "    else :\n",
    "\n",
    "        mx  = np.max(hist2.history['acc'])\n",
    "        del hist2\n",
    "        K.clear_session()\n",
    "        del model2\n",
    "        return None , mx, pred , y_lstm_prossed_test\n",
    "    \n",
    "    \n",
    "    "
   ]
  },
  {
   "cell_type": "code",
   "execution_count": 21,
   "metadata": {},
   "outputs": [],
   "source": [
    "_,_ , classes = pre_process_raw( x_train, y_train , 15, zero_pad=True, normalize=False)"
   ]
  },
  {
   "cell_type": "code",
   "execution_count": 25,
   "metadata": {},
   "outputs": [
    {
     "data": {
      "text/plain": [
       "5"
      ]
     },
     "execution_count": 25,
     "metadata": {},
     "output_type": "execute_result"
    }
   ],
   "source": [
    "len(idx)"
   ]
  },
  {
   "cell_type": "code",
   "execution_count": 42,
   "metadata": {},
   "outputs": [
    {
     "name": "stdout",
     "output_type": "stream",
     "text": [
      "*\n",
      "*\n",
      "*\n",
      "*\n",
      "*\n"
     ]
    }
   ],
   "source": [
    "CNNs22 = [] \n",
    "lstms22 = []\n",
    "rfs22 = []\n",
    "\n",
    "_,_ , classes = pre_process_raw( x_train, y_train , 15, zero_pad=True, normalize=False)\n",
    "sss = StratifiedShuffleSplit(n_splits=5, test_size=0.2, random_state=0)\n",
    "\n",
    "\n",
    "\n",
    "    \n",
    "#     for i in  idx[0][1]:\n",
    "#         x_test[str(i+1)]=( x_data[str(i+1)] )\n",
    "#         y_test[str(i+1)]=( y_data[str(i+1)] )\n",
    "    \n",
    "#     for i in idx[0][0]:\n",
    "#         x_train[str(i+1)]=(  x_data[str(i+1)] )\n",
    "#         y_train[str(i+1)]=(  y_data[str(i+1)] )\n",
    "\n",
    "\n",
    "for d in idx:  #sss.split( x_train,y_train ):\n",
    "#     idx.append( [train_idx,test_idx] )\n",
    "    train_idx = d[0]\n",
    "    test_idx = d[1]\n",
    "    \n",
    "    x_test_t=x_train[test_idx]\n",
    "    y_test_t = y_train[test_idx]\n",
    "    \n",
    "    x_train_t = x_train[train_idx]\n",
    "    y_train_t = y_train[train_idx]\n",
    "#     for i in  test_idx:\n",
    "#         x_test_t[str(i+1)]=( x_data[str(i+1)] )\n",
    "#         y_test_t[str(i+1)]=( y_data[str(i+1)] )\n",
    "    \n",
    "#     for i in train_idx:\n",
    "#         x_train_t[str(i+1)]=(  x_data[str(i+1)] )\n",
    "#         y_train_t[str(i+1)]=(  y_data[str(i+1)] )\n",
    "\n",
    "    \n",
    "    lstms22.append( Do_lstm(x_train_t, y_train_t, x_test_t, y_test_t, classes=classes , Epoch_count=Epoch_count, Batch_size=Batch_size) )\n",
    "#     rfs22.append( Do_RF(x_train_t, y_train_t, x_test_t, y_test_t, classes) )\n",
    "    gc.collect()\n",
    "    print (\"*\")\n",
    "    \n",
    "    \n",
    "    \n",
    "# for i in range( 200,len ( x_train ) ,int( len(x_train)/60) ):\n",
    "    \n",
    "#     if i % 1000 == 0:\n",
    "#         print( \"done %d of %d\" %( i , len(x_train) ))"
   ]
  },
  {
   "cell_type": "code",
   "execution_count": 43,
   "metadata": {},
   "outputs": [
    {
     "data": {
      "text/plain": [
       "31273"
      ]
     },
     "execution_count": 43,
     "metadata": {},
     "output_type": "execute_result"
    }
   ],
   "source": [
    "len(x_train)"
   ]
  },
  {
   "cell_type": "code",
   "execution_count": 44,
   "metadata": {},
   "outputs": [
    {
     "name": "stderr",
     "output_type": "stream",
     "text": [
      "/home/omid/.conda/envs/iot_new/lib/python3.6/site-packages/ipykernel_launcher.py:9: RuntimeWarning: invalid value encountered in double_scalars\n",
      "  if __name__ == '__main__':\n",
      "/home/omid/.conda/envs/iot_new/lib/python3.6/site-packages/ipykernel_launcher.py:11: RuntimeWarning: invalid value encountered in double_scalars\n",
      "  # This is added back by InteractiveShellApp.init_path()\n"
     ]
    }
   ],
   "source": [
    "from sklearn.metrics import accuracy_score\n",
    "import matplotlib.colors as pltc\n",
    "from random import sample\n",
    "def fix_pred(pred):\n",
    "    pred[pred>=0.5] = 1\n",
    "    pred[pred<0.5] = 0\n",
    "    return pred.astype(int)\n",
    "\n",
    "# acc_cnns = [ print_info( pick[1][3], fix_pred(  pick[1][2]), classes=classes )  for pick in CNNs2  ]\n",
    "acc_lstm = [ print_info( pick[3], fix_pred(  pick[2]) , classes=classes)  for pick in lstms  ]\n",
    "acc_lstm2 = [ print_info( pick[3], fix_pred(  pick[2]) , classes=classes)  for pick in lstms22  ]\n",
    "acc_rf = [ print_info( pick[3], fix_pred(  pick[2]) , classes=classes)  for pick in rfs  ]\n",
    "\n",
    "# acc_cnn_avg=[ np.average( np.nan_to_num(x) , axis=0 ) for x in acc_cnns]\n",
    "acc_lstm_avg =[ np.average( np.nan_to_num(x) , axis=0 ) for x in acc_lstm]\n",
    "acc_lstm_avg2 =[ np.average( np.nan_to_num(x) , axis=0 ) for x in acc_lstm2]\n",
    "acc_rf_avg = [ np.average( np.nan_to_num(x) , axis=0 ) for x in acc_rf]"
   ]
  },
  {
   "cell_type": "code",
   "execution_count": 45,
   "metadata": {},
   "outputs": [
    {
     "data": {
      "text/plain": [
       "[array([0.96436535, 0.43534995, 0.28575203, 0.31998005]),\n",
       " array([0.962632  , 0.45737337, 0.2615986 , 0.32363122]),\n",
       " array([0.96330515, 0.45822244, 0.26713704, 0.32505124]),\n",
       " array([0.95600993, 0.50441558, 0.24969892, 0.31959621]),\n",
       " array([0.95823131, 0.4821872 , 0.27506706, 0.32217078])]"
      ]
     },
     "execution_count": 45,
     "metadata": {},
     "output_type": "execute_result"
    }
   ],
   "source": [
    "acc_lstm_avg2"
   ]
  },
  {
   "cell_type": "code",
   "execution_count": 39,
   "metadata": {},
   "outputs": [
    {
     "data": {
      "text/plain": [
       "[array([0.95627919, 0.50666636, 0.26345284, 0.32406621]),\n",
       " array([0.95399049, 0.51150325, 0.25034614, 0.32177681]),\n",
       " array([0.95722159, 0.42825179, 0.22269254, 0.27395308]),\n",
       " array([0.96551811, 0.43121628, 0.27339928, 0.3245395 ]),\n",
       " array([0.9601666 , 0.41837753, 0.25208863, 0.29237875])]"
      ]
     },
     "execution_count": 39,
     "metadata": {},
     "output_type": "execute_result"
    }
   ],
   "source": [
    "acc_lstm_avg2"
   ]
  },
  {
   "cell_type": "code",
   "execution_count": 33,
   "metadata": {},
   "outputs": [
    {
     "data": {
      "text/plain": [
       "[array([0.95890446, 0.49601258, 0.26989969, 0.33561159]),\n",
       " array([0.95383903, 0.50647801, 0.25916276, 0.32762936]),\n",
       " array([0.9392486 , 0.5147937 , 0.2162984 , 0.28795305]),\n",
       " array([0.95288822, 0.48337117, 0.25114965, 0.31003133]),\n",
       " array([0.95926627, 0.42977837, 0.24203797, 0.29519005])]"
      ]
     },
     "execution_count": 33,
     "metadata": {},
     "output_type": "execute_result"
    }
   ],
   "source": [
    "acc_lstm_avg2"
   ]
  },
  {
   "cell_type": "code",
   "execution_count": 31,
   "metadata": {},
   "outputs": [
    {
     "data": {
      "text/plain": [
       "[array([0.98738693, 0.6237261 , 0.66124256, 0.6083291 ]),\n",
       " array([0.987429  , 0.59547473, 0.74732103, 0.60606272]),\n",
       " array([0.98702512, 0.59403744, 0.64638371, 0.5944914 ]),\n",
       " array([0.98752156, 0.58845133, 0.74399702, 0.59832671]),\n",
       " array([0.9870167 , 0.59237964, 0.70028261, 0.60453799])]"
      ]
     },
     "execution_count": 31,
     "metadata": {},
     "output_type": "execute_result"
    }
   ],
   "source": [
    "acc_rf_avg"
   ]
  },
  {
   "cell_type": "code",
   "execution_count": 30,
   "metadata": {},
   "outputs": [
    {
     "data": {
      "text/plain": [
       "[array([0.96359965, 0.37868616, 0.21825131, 0.27108155]),\n",
       " array([0.95529471, 0.51527527, 0.2562399 , 0.32690167]),\n",
       " array([0.9559931 , 0.44899773, 0.22046597, 0.28513566]),\n",
       " array([0.95484034, 0.47918589, 0.28806534, 0.33249412]),\n",
       " array([0.96086499, 0.44673699, 0.2230184 , 0.29233931])]"
      ]
     },
     "execution_count": 30,
     "metadata": {},
     "output_type": "execute_result"
    }
   ],
   "source": [
    "acc_lstm_avg"
   ]
  },
  {
   "cell_type": "code",
   "execution_count": null,
   "metadata": {},
   "outputs": [],
   "source": [
    "CNNs = [] \n",
    "lstms = []\n",
    "rfs = []\n",
    "\n",
    "_,_ , classes = pre_process_raw( x_train, y_train , 15, zero_pad=True, normalize=False)\n",
    "\n",
    "for i in range( 200,len ( x_train ) ,int( len(x_train)/60) ):\n",
    "    \n",
    "#     CNNs.append( [i, Do_unet(x_train[:i], y_train[:i], x_test, y_test, classes=classes , Epoch_count=Epoch_count, Batch_size=Batch_size) ])\n",
    "    lstms.append( [i,Do_lstm(x_train[:i], y_train[:i], x_test, y_test, classes=classes , Epoch_count=Epoch_count, Batch_size=Batch_size) ])\n",
    "    rfs.append([i, Do_RF(x_train[:i], y_train[:i], x_test, y_test, classes) ])\n",
    "    gc.collect()\n",
    "    print (\"*\")\n",
    "    if i % 1000 == 0:\n",
    "        print( \"done %d of %d\" %( i , len(x_train) ))"
   ]
  },
  {
   "cell_type": "code",
   "execution_count": null,
   "metadata": {},
   "outputs": [],
   "source": [
    "# CNNs2 = [] \n",
    "# lstms2 = []\n",
    "# rfs2 = []\n",
    "\n",
    "# for i in range(len(CNNs)):\n",
    "#     CNNs2.append( [ i*200 , CNNs[i]] )\n",
    "#     lstms2.append( [ i*200 , lstms[i]])\n",
    "#     rfs2.append( [ i*200 , rfs[i]])\n",
    "\n",
    "# CNNs = CNNs2\n",
    "# lstms=lstms2\n",
    "# rfs = rfs2"
   ]
  },
  {
   "cell_type": "code",
   "execution_count": null,
   "metadata": {},
   "outputs": [],
   "source": [
    "K.clear_session()"
   ]
  },
  {
   "cell_type": "code",
   "execution_count": null,
   "metadata": {},
   "outputs": [],
   "source": [
    "\n",
    "# for k in range÷( 15200,len ( x_train ) , 2000 ):\n",
    "k= 1\n",
    "i =15400\n",
    "while True:\n",
    "    i = (k*200)+2000 + i \n",
    "    k+=10\n",
    "    if i >= len(x_train) : \n",
    "        break \n",
    "    CNNs2.append( [i, Do_unet(x_train[:i], y_train[:i], x_test, y_test, classes=classes , Epoch_count=Epoch_count, Batch_size=Batch_size)] )\n",
    "    lstms2.append([i, Do_lstm(x_train[:i], y_train[:i], x_test, y_test, classes=classes , Epoch_count=Epoch_count, Batch_size=Batch_size) ])\n",
    "    rfs2.append( [i, Do_RF(x_train[:i], y_train[:i], x_test, y_test, classes) ])\n",
    "#     gc.collect()\n",
    "#     print (\"*\")\n",
    "#     if i % 1000 == 0:\n",
    "    print( \"done %d of %d\" %( i , len(x_train) ))"
   ]
  },
  {
   "cell_type": "code",
   "execution_count": null,
   "metadata": {},
   "outputs": [],
   "source": [
    "len(CNNs2)"
   ]
  },
  {
   "cell_type": "code",
   "execution_count": 23,
   "metadata": {},
   "outputs": [],
   "source": [
    "CNNs2 = np.array( CNNs )\n",
    "lstms2 = np.array(lstms)\n",
    "rfs2  = np.array(rfs)"
   ]
  },
  {
   "cell_type": "code",
   "execution_count": 24,
   "metadata": {},
   "outputs": [],
   "source": [
    "# np.save( \"cnns_final.npy\" , CNNs2 )\n",
    "np.save( \"lstms_final.npy\", lstms2)\n",
    "np.save( \"rfs_final.npy\", rfs2)"
   ]
  },
  {
   "cell_type": "code",
   "execution_count": 4,
   "metadata": {},
   "outputs": [
    {
     "name": "stderr",
     "output_type": "stream",
     "text": [
      "/home/omid/.conda/envs/iot/lib/python3.6/site-packages/sklearn/base.py:306: UserWarning: Trying to unpickle estimator DecisionTreeClassifier from version 0.21.dev0 when using version 0.21.2. This might lead to breaking code or invalid results. Use at your own risk.\n",
      "  UserWarning)\n",
      "/home/omid/.conda/envs/iot/lib/python3.6/site-packages/sklearn/base.py:306: UserWarning: Trying to unpickle estimator RandomForestClassifier from version 0.21.dev0 when using version 0.21.2. This might lead to breaking code or invalid results. Use at your own risk.\n",
      "  UserWarning)\n"
     ]
    }
   ],
   "source": [
    "# CNNs2 =list( np.load( \"cnns2.npy\" ))\n",
    "lstms2 = list(np.load(\"lstms_final.npy\" , allow_pickle=True))\n",
    "rfs2  = list(np.load(\"rfs_final.npy\", allow_pickle=True))"
   ]
  },
  {
   "cell_type": "code",
   "execution_count": 25,
   "metadata": {},
   "outputs": [],
   "source": [
    "\n",
    "_,_ , classes = pre_process_raw( x_train, y_train , 160, zero_pad=True, normalize=False)\n"
   ]
  },
  {
   "cell_type": "code",
   "execution_count": 12,
   "metadata": {},
   "outputs": [],
   "source": [
    "classes=['acceleration',\n",
    " 'activity',\n",
    " 'battery',\n",
    " 'button',\n",
    " 'colorTemperature',\n",
    " 'contact',\n",
    " 'level',\n",
    " 'lock',\n",
    " 'motion',\n",
    " 'none',\n",
    " 'on/off',\n",
    " 'ping',\n",
    " 'raw',\n",
    " 'read_attr_-_raw',\n",
    " 'status',\n",
    " 'switch',\n",
    " 'temperature',\n",
    " 'threeAxis',\n",
    " 'water']"
   ]
  },
  {
   "cell_type": "code",
   "execution_count": 5,
   "metadata": {},
   "outputs": [
    {
     "ename": "NameError",
     "evalue": "name 'CNNs2' is not defined",
     "output_type": "error",
     "traceback": [
      "\u001b[0;31m---------------------------------------------------------------------------\u001b[0m",
      "\u001b[0;31mNameError\u001b[0m                                 Traceback (most recent call last)",
      "\u001b[0;32m<ipython-input-5-0cbc44714718>\u001b[0m in \u001b[0;36m<module>\u001b[0;34m\u001b[0m\n\u001b[0;32m----> 1\u001b[0;31m \u001b[0mplt\u001b[0m\u001b[0;34m.\u001b[0m\u001b[0mplot\u001b[0m\u001b[0;34m(\u001b[0m \u001b[0;34m[\u001b[0m \u001b[0mpick\u001b[0m\u001b[0;34m[\u001b[0m\u001b[0;36m1\u001b[0m\u001b[0;34m]\u001b[0m\u001b[0;34m[\u001b[0m\u001b[0;36m1\u001b[0m\u001b[0;34m]\u001b[0m \u001b[0;32mfor\u001b[0m \u001b[0mpick\u001b[0m \u001b[0;32min\u001b[0m \u001b[0mCNNs2\u001b[0m  \u001b[0;34m]\u001b[0m \u001b[0;34m)\u001b[0m\u001b[0;34m\u001b[0m\u001b[0;34m\u001b[0m\u001b[0m\n\u001b[0m\u001b[1;32m      2\u001b[0m \u001b[0mplt\u001b[0m\u001b[0;34m.\u001b[0m\u001b[0mplot\u001b[0m\u001b[0;34m(\u001b[0m \u001b[0;34m[\u001b[0m \u001b[0mpick\u001b[0m\u001b[0;34m[\u001b[0m\u001b[0;36m1\u001b[0m\u001b[0;34m]\u001b[0m\u001b[0;34m[\u001b[0m\u001b[0;36m1\u001b[0m\u001b[0;34m]\u001b[0m \u001b[0;32mfor\u001b[0m \u001b[0mpick\u001b[0m \u001b[0;32min\u001b[0m \u001b[0mlstms2\u001b[0m  \u001b[0;34m]\u001b[0m \u001b[0;34m)\u001b[0m\u001b[0;34m\u001b[0m\u001b[0;34m\u001b[0m\u001b[0m\n",
      "\u001b[0;31mNameError\u001b[0m: name 'CNNs2' is not defined"
     ]
    }
   ],
   "source": [
    "plt.plot( [ pick[1][1] for pick in CNNs2  ] )\n",
    "plt.plot( [ pick[1][1] for pick in lstms2  ] )"
   ]
  },
  {
   "cell_type": "code",
   "execution_count": 13,
   "metadata": {},
   "outputs": [
    {
     "name": "stderr",
     "output_type": "stream",
     "text": [
      "/home/omid/.conda/envs/iot/lib/python3.6/site-packages/ipykernel_launcher.py:9: RuntimeWarning: invalid value encountered in double_scalars\n",
      "  if __name__ == '__main__':\n",
      "/home/omid/.conda/envs/iot/lib/python3.6/site-packages/ipykernel_launcher.py:11: RuntimeWarning: invalid value encountered in double_scalars\n",
      "  # This is added back by InteractiveShellApp.init_path()\n"
     ]
    }
   ],
   "source": [
    "from sklearn.metrics import accuracy_score\n",
    "import matplotlib.colors as pltc\n",
    "from random import sample\n",
    "def fix_pred(pred):\n",
    "    pred[pred>=0.5] = 1\n",
    "    pred[pred<0.5] = 0\n",
    "    return pred.astype(int)\n",
    "\n",
    "# acc_cnns = [ print_info( pick[1][3], fix_pred(  pick[1][2]), classes=classes )  for pick in CNNs2  ]\n",
    "acc_lstm = [ print_info( pick[1][3], fix_pred(  pick[1][2]) , classes=classes)  for pick in lstms2  ]\n",
    "acc_rf = [ print_info( pick[1][3], fix_pred(  pick[1][2]) , classes=classes)  for pick in rfs2  ]\n",
    "\n",
    "# acc_cnn_avg=[ np.average( np.nan_to_num(x) , axis=0 ) for x in acc_cnns]\n",
    "acc_lstm_avg =[ np.average( np.nan_to_num(x) , axis=0 ) for x in acc_lstm]\n",
    "acc_rf_avg = [ np.average( np.nan_to_num(x) , axis=0 ) for x in acc_rf]"
   ]
  },
  {
   "cell_type": "code",
   "execution_count": 29,
   "metadata": {},
   "outputs": [
    {
     "name": "stdout",
     "output_type": "stream",
     "text": [
      "               Class  Accuracy     Recall  Precision   F Score \n",
      "------------------------------------------------------------------------\n",
      "        acceleration     0.989      0.176     0.565     0.268 \n",
      "            activity     1.000      0.000       nan       nan \n",
      "             battery     1.000      0.333     1.000     0.500 \n",
      "              button     0.998      0.955     0.889     0.921 \n",
      "    colorTemperature     0.998      0.974     0.950     0.962 \n",
      "             contact     0.990      0.711     0.791     0.749 \n",
      "               level     0.990      0.923     0.921     0.922 \n",
      "                lock     0.996      0.697     0.958     0.807 \n",
      "              motion     0.995      0.310     0.867     0.456 \n",
      "                none     0.898      0.930     0.929     0.930 \n",
      "              on/off     0.981      0.927     0.607     0.734 \n",
      "                ping     0.999      0.991     0.991     0.991 \n",
      "                 raw     0.998      1.000     0.545     0.706 \n",
      "     read_attr_-_raw     0.998      0.000       nan       nan \n",
      "              status     0.991      0.714     0.780     0.746 \n",
      "              switch     0.978      0.786     0.679     0.729 \n",
      "         temperature     0.981      0.009     0.167     0.016 \n",
      "           threeAxis     0.993      0.450     0.692     0.545 \n",
      "               water     0.998      0.118     1.000     0.211 \n"
     ]
    },
    {
     "name": "stderr",
     "output_type": "stream",
     "text": [
      "/home/omid/.conda/envs/iot_new/lib/python3.6/site-packages/ipykernel_launcher.py:9: RuntimeWarning: invalid value encountered in double_scalars\n",
      "  if __name__ == '__main__':\n"
     ]
    },
    {
     "data": {
      "text/plain": [
       "[(0.9886490807354117,\n",
       "  0.17567567567567569,\n",
       "  0.5652173913043478,\n",
       "  0.2680412371134021),\n",
       " (0.9995203836930455, 0.0, nan, nan),\n",
       " (0.9996802557953637, 0.3333333333333333, 1.0, 0.5),\n",
       " (0.9982414068745004,\n",
       "  0.9552238805970149,\n",
       "  0.8888888888888888,\n",
       "  0.9208633093525178),\n",
       " (0.9980815347721822, 0.9743589743589743, 0.95, 0.9620253164556962),\n",
       " (0.9902478017585932, 0.7109375, 0.7913043478260869, 0.7489711934156379),\n",
       " (0.9896083133493205,\n",
       "  0.9234449760765551,\n",
       "  0.9212410501193318,\n",
       "  0.922341696535245),\n",
       " (0.9964828137490008,\n",
       "  0.696969696969697,\n",
       "  0.9583333333333334,\n",
       "  0.8070175438596493),\n",
       " (0.9950439648281375,\n",
       "  0.30952380952380953,\n",
       "  0.8666666666666667,\n",
       "  0.45614035087719296),\n",
       " (0.8981614708233413,\n",
       "  0.9299292661361627,\n",
       "  0.9293130108239452,\n",
       "  0.9296210363495747),\n",
       " (0.9809752198241407,\n",
       "  0.9265536723163842,\n",
       "  0.6074074074074074,\n",
       "  0.7337807606263982),\n",
       " (0.9990407673860912, 0.991044776119403, 0.991044776119403, 0.991044776119403),\n",
       " (0.9976019184652278, 1.0, 0.5454545454545454, 0.7058823529411764),\n",
       " (0.9980815347721822, 0.0, nan, nan),\n",
       " (0.9907274180655475,\n",
       "  0.7142857142857143,\n",
       "  0.7798165137614679,\n",
       "  0.7456140350877193),\n",
       " (0.9780975219824141,\n",
       "  0.7863247863247863,\n",
       "  0.6789667896678967,\n",
       "  0.7287128712871287),\n",
       " (0.9806554756195044,\n",
       "  0.008547008547008548,\n",
       "  0.16666666666666666,\n",
       "  0.016260162601626018),\n",
       " (0.9928057553956835, 0.45, 0.6923076923076923, 0.5454545454545455),\n",
       " (0.9976019184652278, 0.11764705882352941, 1.0, 0.21052631578947367)]"
      ]
     },
     "execution_count": 29,
     "metadata": {},
     "output_type": "execute_result"
    }
   ],
   "source": [
    "print_info( rfs2[-1][1][3],fix_pred(rfs2[-1][1][2]    ), classes=classes, DoPrint=True)"
   ]
  },
  {
   "cell_type": "code",
   "execution_count": 30,
   "metadata": {},
   "outputs": [
    {
     "name": "stdout",
     "output_type": "stream",
     "text": [
      "acceleration 0.9886490807354117 0.17567567567567569 0.5652173913043478 0.2680412371134021\n",
      "activity 0.9995203836930455 0.0 nan nan\n",
      "battery 0.9996802557953637 0.3333333333333333 1.0 0.5\n",
      "button 0.9982414068745004 0.9552238805970149 0.8888888888888888 0.9208633093525178\n",
      "colorTemperature 0.9980815347721822 0.9743589743589743 0.95 0.9620253164556962\n",
      "contact 0.9902478017585932 0.7109375 0.7913043478260869 0.7489711934156379\n",
      "level 0.9896083133493205 0.9234449760765551 0.9212410501193318 0.922341696535245\n",
      "lock 0.9964828137490008 0.696969696969697 0.9583333333333334 0.8070175438596493\n",
      "motion 0.9950439648281375 0.30952380952380953 0.8666666666666667 0.45614035087719296\n",
      "none 0.8981614708233413 0.9299292661361627 0.9293130108239452 0.9296210363495747\n",
      "on/off 0.9809752198241407 0.9265536723163842 0.6074074074074074 0.7337807606263982\n",
      "ping 0.9990407673860912 0.991044776119403 0.991044776119403 0.991044776119403\n",
      "raw 0.9976019184652278 1.0 0.5454545454545454 0.7058823529411764\n",
      "read_attr_-_raw 0.9980815347721822 0.0 nan nan\n",
      "status 0.9907274180655475 0.7142857142857143 0.7798165137614679 0.7456140350877193\n",
      "switch 0.9780975219824141 0.7863247863247863 0.6789667896678967 0.7287128712871287\n",
      "temperature 0.9806554756195044 0.008547008547008548 0.16666666666666666 0.016260162601626018\n",
      "threeAxis 0.9928057553956835 0.45 0.6923076923076923 0.5454545454545455\n",
      "water 0.9976019184652278 0.11764705882352941 1.0 0.21052631578947367\n"
     ]
    }
   ],
   "source": [
    "for x in range( len(classes)):\n",
    "    print( classes[x], acc_rf[-1][x][0], acc_rf[-1][x][1], acc_rf[-1][x][2], acc_rf[-1][x][3] )"
   ]
  },
  {
   "cell_type": "code",
   "execution_count": 14,
   "metadata": {
    "scrolled": true
   },
   "outputs": [
    {
     "name": "stderr",
     "output_type": "stream",
     "text": [
      "WARNING: Logging before flag parsing goes to stderr.\n",
      "W0912 15:14:02.845047 140305648199488 legend.py:1282] No handles with labels found to put in legend.\n"
     ]
    },
    {
     "data": {
      "text/plain": [
       "<matplotlib.legend.Legend at 0x7f9afc580940>"
      ]
     },
     "execution_count": 14,
     "metadata": {},
     "output_type": "execute_result"
    },
    {
     "data": {
      "image/png": "[encoded data removed]",
      "text/plain": [
       "<Figure size 864x288 with 1 Axes>"
      ]
     },
     "metadata": {
      "needs_background": "light"
     },
     "output_type": "display_data"
    }
   ],
   "source": [
    "# all_colors = [k for k,v in plt.cnames.items()]\n",
    "colors = ['coral',\n",
    " 'sienna',\n",
    " 'lightcoral',\n",
    " 'darkgray',\n",
    " 'lightyellow',\n",
    " 'tan',\n",
    " 'sandybrown',\n",
    " 'cyan',\n",
    " 'aliceblue',\n",
    " 'brown',\n",
    " 'lavender',\n",
    " 'lavenderblush',\n",
    " 'palevioletred',\n",
    " 'tomato',\n",
    " 'gainsboro',\n",
    " 'hotpink',\n",
    " 'olivedrab',\n",
    " 'mediumvioletred',\n",
    " 'orangered',\n",
    " 'forestgreen',\n",
    " 'lightgreen',\n",
    " 'navy',\n",
    " 'darkorchid',\n",
    " 'seagreen',\n",
    " 'lime',\n",
    " 'mediumslateblue']\n",
    "\n",
    "plt.figure(figsize=(12,4))\n",
    "# indexes  = [x[0]+200 for x in rfs2  ]  \n",
    "\n",
    "indexes = [ x[0] for x in rfs2 ]\n",
    "\n",
    "\n",
    "\n",
    "# for ind in range(len( acc_cnn_avg[0] )):\n",
    "#     plt.plot([ p[ind] for p in acc_cnn_avg ], c=colors[ind], linestyle='-' , label='cnn_'+ classes[ind])\n",
    "#     plt.plot([ p[ind] for p in acc_lstm_avg], c=colors[ind], linestyle=':', label='lstm_'+ classes[ind])\n",
    "#     plt.plot([ p[ind] for p in acc_rf_avg], c=colors[ind], linestyle='--',  label ='rf_'+ classes[ind])\n",
    "ind =0\n",
    "# plt.plot(indexes,[ p[2] for p in acc_cnn_avg ], c=colors[ind], linestyle='-' , label='cnn_')\n",
    "# plt.plot(indexes,[ p[3] for p in acc_lstm_avg], c=colors[ind], linestyle=':', label='lstm_')\n",
    "plt.plot(indexes,[ p[3] for p in acc_rf_avg], c=colors[ind], linestyle='--',  label ='')\n",
    "plt.tick_params(axis='both',  labelsize=18)\n",
    "plt.xlabel( 'data size' ,fontsize=20 )\n",
    "plt.ylabel( 'average f1 score', fontsize=20)\n",
    "\n",
    "\n",
    "\n",
    "# for ind in range(len( classes )):\n",
    "#     plt.plot([ p[ind][3] for p in acc_cnns ], c=colors[ind], linestyle='-' , label='cnn_'+ classes[ind])\n",
    "#     plt.plot([ p[ind][3] for p in acc_lstm], c=colors[ind], linestyle=':', label='lstm_'+ classes[ind])\n",
    "#     plt.plot([ p[ind][3] for p in acc_rf], c=colors[ind], linestyle='--',  label ='rf_'+ classes[ind])\n",
    "\n",
    "\n",
    "# plt.plot([ p[-1][3] for p in acc_cnns ], c=colors[ind], linestyle='-' , label='cnn_'+ classes[ind])\n",
    "# plt.plot([ p[ind][3] for p in acc_lstm], c=colors[ind], linestyle=':', label='lstm_'+ classes[ind])\n",
    "# plt.plot([ p[ind][3] for p in acc_rf], c=colors[ind], linestyle='--',  label ='rf_'+ classes[ind])\n",
    "\n",
    "\n",
    "# def fix_pred(pred):\n",
    "#     pred[pred>=0.5] = 1\n",
    "#     pred[pred<0.5] = 0\n",
    "#     return pred.astype(int)\n",
    "\n",
    "\n",
    "\n",
    "# acc_cnns = [ accuracy_score( pick[1][3], fix_pred(  pick[1][2]) )  for pick in CNNs2  ]\n",
    "# acc_lstm = [ accuracy_score( pick[1][3], fix_pred(  pick[1][2]) )  for pick in lstms2  ]\n",
    "# acc_rf = [ accuracy_score( pick[1][3], fix_pred(  pick[1][2]) )  for pick in rfs2  ]\n",
    "plt.legend()"
   ]
  },
  {
   "cell_type": "code",
   "execution_count": 15,
   "metadata": {},
   "outputs": [],
   "source": [
    "data_size_growth = list( zip(indexes,  [ p[3] for p in acc_rf_avg]  )  )"
   ]
  },
  {
   "cell_type": "code",
   "execution_count": 17,
   "metadata": {},
   "outputs": [],
   "source": [
    "import csv\n",
    "with open( 'outputs/avg_f1_by_data_size.csv', 'w' ) as f:\n",
    "    wr = csv.writer(f, quoting=csv.QUOTE_ALL)\n",
    "    wr.writerows(data_size_growth)"
   ]
  },
  {
   "cell_type": "markdown",
   "metadata": {},
   "source": [
    "### len(classes)"
   ]
  },
  {
   "cell_type": "code",
   "execution_count": null,
   "metadata": {},
   "outputs": [],
   "source": [
    "v= [   abs(pick[1][3]- fix_pred(  pick[1][2]))  for pick in rfs2  ]"
   ]
  },
  {
   "cell_type": "code",
   "execution_count": 16,
   "metadata": {},
   "outputs": [
    {
     "data": {
      "text/plain": [
       "Text(0, 0.5, 'accuracy')"
      ]
     },
     "execution_count": 16,
     "metadata": {},
     "output_type": "execute_result"
    },
    {
     "data": {
      "image/png": "[encoded data removed]",
      "text/plain": [
       "<Figure size 864x288 with 1 Axes>"
      ]
     },
     "metadata": {
      "needs_background": "light"
     },
     "output_type": "display_data"
    }
   ],
   "source": [
    "cnn_acc = []\n",
    "indexes  = [x[0]+200 for x in rfs2  ]    \n",
    "plt.figure(figsize=(12,4))\n",
    "lists   = [rfs2,lstms2, CNNs2]\n",
    "lables = ['Random Forest', 'LSTM', 'CNN']\n",
    "\n",
    "for i in range(3) :\n",
    "#     v= [abs(pick[1][3]- fix_pred(  pick[1][2]))  for pick in i  ]\n",
    "#     xx= np.sum(v[-1],axis=1) \n",
    "#     print(len(xx[xx==0])* 1.0/ len(xx))\n",
    "     \n",
    "    xx= [np.sum(cc ,axis=1)  for cc in [abs(pick[1][3]- fix_pred(  pick[1][2]))  for pick in lists[i]  ]]\n",
    "    xx= [ len(p[p==0])* 1.0/ 12590 for p in xx  ]\n",
    "    plt.plot(indexes,xx, label =lables[i] )\n",
    "    \n",
    "plt.legend()\n",
    "plt.xlabel('training data size')\n",
    "plt.ylabel('accuracy')\n"
   ]
  },
  {
   "cell_type": "code",
   "execution_count": null,
   "metadata": {},
   "outputs": [],
   "source": [
    "a = np.array([1,2,2,4,4,5,56,6,6,0,0,0]). ( lambda x: x>0 )"
   ]
  },
  {
   "cell_type": "code",
   "execution_count": null,
   "metadata": {},
   "outputs": [],
   "source": [
    "len(v[0]), len(xx)"
   ]
  },
  {
   "cell_type": "code",
   "execution_count": null,
   "metadata": {},
   "outputs": [],
   "source": [
    "['coral',\n",
    " 'sienna',\n",
    " 'lightcoral',\n",
    " 'darkgray',\n",
    " 'lightyellow',\n",
    " 'tan',\n",
    " 'sandybrown',\n",
    " 'cyan',\n",
    " 'aliceblue',\n",
    " 'brown',\n",
    " 'lavender',\n",
    " 'lavenderblush',\n",
    " 'palevioletred',\n",
    " 'tomato',\n",
    " 'gainsboro',\n",
    " 'hotpink',\n",
    " 'olivedrab',\n",
    " 'mediumvioletred',\n",
    " 'orangered',\n",
    " 'forestgreen',\n",
    " 'lightgreen',\n",
    " 'navy',\n",
    " 'darkorchid',\n",
    " 'seagreen',\n",
    " 'lime',\n",
    " 'mediumslateblue']"
   ]
  },
  {
   "cell_type": "code",
   "execution_count": null,
   "metadata": {},
   "outputs": [],
   "source": [
    "x_train[0]"
   ]
  },
  {
   "cell_type": "code",
   "execution_count": null,
   "metadata": {},
   "outputs": [],
   "source": [
    "y_train[0]"
   ]
  },
  {
   "cell_type": "code",
   "execution_count": null,
   "metadata": {},
   "outputs": [],
   "source": []
  }
 ],
 "metadata": {
  "kernelspec": {
   "display_name": "Python3.6(iot)",
   "language": "python",
   "name": "iot"
  },
  "language_info": {
   "codemirror_mode": {
    "name": "ipython",
    "version": 3
   },
   "file_extension": ".py",
   "mimetype": "text/x-python",
   "name": "python",
   "nbconvert_exporter": "python",
   "pygments_lexer": "ipython3",
   "version": "3.6.9"
  }
 },
 "nbformat": 4,
 "nbformat_minor": 2
}
