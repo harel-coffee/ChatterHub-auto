{
 "cells": [
  {
   "cell_type": "code",
   "execution_count": 1,
   "metadata": {},
   "outputs": [],
   "source": [
    "%matplotlib inline\n",
    "from scapy.all import *\n",
    "import matplotlib.pyplot as plt\n",
    "import os\n",
    "import pyshark"
   ]
  },
  {
   "cell_type": "markdown",
   "metadata": {},
   "source": [
    "# Load Pcap files"
   ]
  },
  {
   "cell_type": "code",
   "execution_count": 2,
   "metadata": {},
   "outputs": [],
   "source": [
    "file_to_load  = 'long_running_multip_light_key.pcapng'\n",
    "packets = rdpcap(os.path.join( '../files/', file_to_load ))\n"
   ]
  },
  {
   "cell_type": "code",
   "execution_count": 3,
   "metadata": {},
   "outputs": [],
   "source": [
    "# Constants : \n",
    "\n",
    "HUB_IP = '10.42.0.55'"
   ]
  },
  {
   "cell_type": "markdown",
   "metadata": {},
   "source": [
    "# Generate Sequence ( by time and by count)"
   ]
  },
  {
   "cell_type": "markdown",
   "metadata": {},
   "source": [
    "we need time and count wise ngrams"
   ]
  },
  {
   "cell_type": "code",
   "execution_count": null,
   "metadata": {},
   "outputs": [],
   "source": [
    "dir( packets[0] )"
   ]
  },
  {
   "cell_type": "code",
   "execution_count": 7,
   "metadata": {},
   "outputs": [
    {
     "data": {
      "text/plain": [
       "0"
      ]
     },
     "execution_count": 7,
     "metadata": {},
     "output_type": "execute_result"
    }
   ],
   "source": [
    "t0 = packets[0].time\n",
    "\n",
    "load_layer(\"tls\")\n",
    "\n",
    "fixed  = [  {\n",
    "    \"len\": len(x),\n",
    "    \"time\" : x.time-t0,\n",
    "    \"dir\" : \"o\" if x[IP].src== HUB_IP else \"i\",\n",
    "    \"item\":x\n",
    "    \n",
    "}   for x in packets if  TLS13 in x ]# (IP in x and TCP in x and ) ]  \n",
    "\n",
    "len(fixed)"
   ]
  },
  {
   "cell_type": "code",
   "execution_count": null,
   "metadata": {},
   "outputs": [],
   "source": [
    "print(IP)"
   ]
  },
  {
   "cell_type": "code",
   "execution_count": null,
   "metadata": {},
   "outputs": [],
   "source": [
    "for x in fixed: \n",
    "    print( dir(x[\"item\"]) )"
   ]
  },
  {
   "cell_type": "code",
   "execution_count": null,
   "metadata": {},
   "outputs": [],
   "source": [
    "plt.figure(figsize=(60,10))\n",
    "mycolors = ['red','green','blue','black','magenta','cyan', 'yellow']\n",
    "for file in filePath:\n",
    "    plt.scatter(0,0,label=file , color=mycolors[ filePath.index(file) ])\n",
    "    packets = rdpcap(os.path.join( '/home/omid/research/iot/IoT-Project/files/' , file))\n",
    "    t0 = packets[0].time\n",
    "    for pkt in packets:\n",
    "        if IP in pkt:\n",
    "            ip_src=pkt[IP].src\n",
    "            ip_dst=pkt[IP].dst\n",
    "        if TCP in pkt :\n",
    "            tcp_sport=pkt[TCP].sport\n",
    "            tcp_dport=pkt[TCP].dport\n",
    "            cnt+=1\n",
    "            if (pkt.time - t0  < 100):\n",
    "                plt.scatter( pkt.time - t0 , len(pkt), color=mycolors[ filePath.index(file) ],s=16,  marker='o' if str(ip_src)== '10.42.0.55' else '|' ) \n",
    "plt.legend()\n"
   ]
  }
 ],
 "metadata": {
  "kernelspec": {
   "display_name": "Python3(new_iot)",
   "language": "python",
   "name": "iot_new"
  },
  "language_info": {
   "codemirror_mode": {
    "name": "ipython",
    "version": 3
   },
   "file_extension": ".py",
   "mimetype": "text/x-python",
   "name": "python",
   "nbconvert_exporter": "python",
   "pygments_lexer": "ipython3",
   "version": "3.6.6"
  }
 },
 "nbformat": 4,
 "nbformat_minor": 2
}
